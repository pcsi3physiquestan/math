{
 "cells": [
  {
   "cell_type": "markdown",
   "id": "e164b228",
   "metadata": {},
   "source": [
    "# Applcations : Géométrie vectorielle\n",
    "\n",
    "## Théorème d'Al Kashi\n",
    "\n",
    "````{admonition} Exercice \n",
    ":class: attention\n",
    "Démontrer le théorème d'Al Kashi à l'aide de la géométrie vectorielle.\n",
    "````\n",
    "\n",
    "## Géométrie vectorielle\n",
    "\n",
    "````{admonition} Exercice \n",
    ":class: attention\n",
    "On considère la figure suivante. On note $\\overrightarrow{\\Omega} = \\Omega \\overrightarrow{z}$ et $\\alpha$ est un angle fixe.\n",
    "\n",
    "```{figure} ./images/mathematiques_td_pates.jpg\n",
    ":name: fig_355\n",
    ":align: center\n",
    "```\n",
    "\n",
    "1. Déterminer les expressions des vecteurs $\\overrightarrow{G_1 A}$ et $\\overrightarrow{G_2 A}$\n",
    "2. Déterminer les expressions des vecteurs $\\overrightarrow{v_A} = \\overrightarrow{\\Omega} \\wedge \\overrightarrow{G_1 A}$ et $\\overrightarrow{v_2} = \\overrightarrow{\\Omega} \\wedge \\overrightarrow{G_1 G_2}$.\n",
    "3. Représenter graphiquement $\\overrightarrow{v_1}$ et $\\overrightarrow{v_2}$ (on fera surtout attention à la direction et au sens du vecteur).\n",
    "````\n",
    "\n",
    "## Angles d'Euler\n",
    "\n",
    "````{admonition} Exercice \n",
    ":class: attention\n",
    "On considère un repère cartésien $\\mathfrak{R_1}$ $(O, \\overrightarrow{e_{x1}}, \\overrightarrow{e_{y_1}}, \\overrightarrow{e_{z_1}})$. On définit trois autres repères cartésiens:\n",
    "\n",
    "* le repère $\\mathfrak{R_2}$ $(O, \\overrightarrow{e_{x2}}, \\overrightarrow{e_{y_2}}, \\overrightarrow{e_{z_1}})$ obtenu par rotation de $\\mathfrak{R_1}$ d'un angle $\\theta$ autour de $\\overrightarrow{z_1}$\n",
    "* le repère $\\mathfrak{R_3}$ $(O, \\overrightarrow{e_{x3}}, \\overrightarrow{e_{y_2}}, \\overrightarrow{e_{z_3}})$ obtenu par rotation de $\\mathfrak{R_2}$ d'un angle $\\phi$ autour de $\\overrightarrow{y_2}$\n",
    "* le repère $\\mathfrak{R_4}$ $(O, \\overrightarrow{e_{x3}}, \\overrightarrow{e_{y_4}}, \\overrightarrow{e_{z_4}})$ obtenu par rotation de $\\mathfrak{R_3}$ d'un angle $\\psi$ autour de $\\overrightarrow{x_3}$\n",
    "\n",
    "1. Représenter sur un schéma les quatres repères. Commenter la difficulté de raisonner sur un tel schéma.\n",
    "2. Représenter des plans de coupe d'axe perpendiculaire $\\overrightarrow{z_1}$, puis $\\overrightarrow{y_2}$ puis $\\overrightarrow{x_3}$. Représenter pour chaque coupe les vecteurs des repères contenus dans ces plans et les angles $\\phi, \\theta, \\psi$ lorsqu'ils apparaissent.\n",
    "3. Soit un point A de coordonnées $(x_4,y_4,z_4)$ dans $\\mathfrak{R_4}$, exprimer le vecteur $\\overrightarrow{OA}$ dans le repère $\\mathfrak{R_1}$ en fonction de $x_4,y_4,z_4,\\phi,\\theta$ et $\\psi$.\n",
    "````"
   ]
  }
 ],
 "metadata": {
  "jupytext": {
   "encoding": "# -*- coding: utf-8 -*-",
   "formats": "ipynb,md:myst",
   "split_at_heading": true,
   "text_representation": {
    "extension": ".md",
    "format_name": "myst",
    "format_version": 0.13,
    "jupytext_version": "1.10.3"
   }
  },
  "kernelspec": {
   "display_name": "Python 3",
   "language": "python",
   "name": "python3"
  },
  "language_info": {
   "codemirror_mode": {
    "name": "ipython",
    "version": 3
   },
   "file_extension": ".py",
   "mimetype": "text/x-python",
   "name": "python",
   "nbconvert_exporter": "python",
   "pygments_lexer": "ipython3",
   "version": "3.7.12"
  },
  "source_map": [
   15
  ]
 },
 "nbformat": 4,
 "nbformat_minor": 5
}