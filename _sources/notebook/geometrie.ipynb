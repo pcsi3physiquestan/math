{
 "cells": [
  {
   "cell_type": "markdown",
   "id": "fbe5e1ec",
   "metadata": {},
   "source": [
    "# Géométrie vectorielle\n",
    "\n",
    "````{admonition} Compétences\n",
    ":class: tip\n",
    "* Exprimer les coordonnées d'un vecteur dans une base orthonormée d'un espace de dimension inférieure ou égale à 3.\n",
    "* Interpréter géométriquement le produit scalaire et connaître son expression en fonction des coordonnées dans une base orthonormée.\n",
    "* Utiliser la bilinéarité et le caractère symétrique du produit scalaire.\n",
    "* Interpréter géométriquement le produit vectoriel et connaître son expression en fonction des coordonnées dans une base orthonormée directe.\n",
    "* Utiliser la bilinéarité et le caractère antisymétrique du produit vectoriel.\n",
    "* Faire le lien avec l'orientation des trièdres.\n",
    "* Définir une convention d'orientation des angles d'un plan (euclidien) et lire des angles orientés.\n",
    "* Relier l'orientation d'un axe de rotation à l'orientation positive des angles d'un plan perpendiculaire à cet axe.\n",
    "* Connaître le lien entre le gradient et la différentielle.\n",
    "* Connaître l'expression du gradient en coordonnées cartésiennes; utiliser un formulaire fourni en coordonnées cylindriques ou sphériques.\n",
    "* Utiliser le fait que le gradient d'une fonction f est perpendiculaire aux surfaces iso-f et orienté dans le sens des valeurs de f croissantes.\n",
    "````\n",
    "\n",
    "Le but de ce cours est avant tout d'avoir une maîtrise du calcul vectoriel et une comprehension physique de la géométrie dans l'espace.\n",
    "\n",
    "Il ne s'agit pas ici de faire un cours d'algèbre linéaire générale. Nous allons ici étudier des notions relativement générales uniquement à travers l'exemple de la géométrie dans l'espace. Plusieurs définitions seront ainsi introduites \"à la main\" et certaines propriétés seront admises."
   ]
  }
 ],
 "metadata": {
  "jupytext": {
   "encoding": "# -*- coding: utf-8 -*-",
   "formats": "ipynb,md:myst",
   "split_at_heading": true,
   "text_representation": {
    "extension": ".md",
    "format_name": "myst",
    "format_version": 0.13,
    "jupytext_version": "1.10.3"
   }
  },
  "kernelspec": {
   "display_name": "Python 3",
   "language": "python",
   "name": "python3"
  },
  "language_info": {
   "codemirror_mode": {
    "name": "ipython",
    "version": 3
   },
   "file_extension": ".py",
   "mimetype": "text/x-python",
   "name": "python",
   "nbconvert_exporter": "python",
   "pygments_lexer": "ipython3",
   "version": "3.9.15"
  },
  "source_map": [
   15
  ]
 },
 "nbformat": 4,
 "nbformat_minor": 5
}