{
 "cells": [
  {
   "cell_type": "markdown",
   "id": "oriental-attempt",
   "metadata": {},
   "source": [
    "# Bases de mathématiques pour la physique\n",
    "````{admonition} Objectifs\n",
    ":class: hint\n",
    "* Résoudre une équation simple.\n",
    "* Donner les solutions formelles d'un système d'équations\n",
    "* Représenter graphiquement une équation de la forme $f(x)=g(x)$. Interpréter graphiquement les solutions.\n",
    "* Connaître l'allure et les propriétés des fonctions usuelles: exponentielle, logarithme népérien et décimal, cosinus, sinus, tangente, puissance réelle, cosinus hyperbolique, sinus hyperbolique.\n",
    "* Tracer une courbe d'équation $y=f(x)$.\n",
    "* Déterminer un comportement asymptotique.\n",
    "* Rechercher un extremum local.\n",
    "* Dériver correctement une fonction ou une composée de fonction. Intégrer une fonction usuelle.\n",
    "* Associer une transformation graphique à une modification d'une fonction usuelle (homothétie, symétrie, translation)\n",
    "* Utiliser le cercle trigonométrique et l'interprétation géométrique  des fonctions sinus, cosinus, tangente.\n",
    "* Connaître les formules d'addition et de duplication des cosinus et sinus.\n",
    "* Calculer et interprêter géométriquement la partie réelle et imaginaire, le module et l'argument d'un nombre complexe.\n",
    "````"
   ]
  }
 ],
 "metadata": {
  "jupytext": {
   "encoding": "# -*- coding: utf-8 -*-",
   "formats": "ipynb,md:myst",
   "split_at_heading": true,
   "text_representation": {
    "extension": ".md",
    "format_name": "myst",
    "format_version": 0.13,
    "jupytext_version": "1.10.3"
   }
  },
  "kernelspec": {
   "display_name": "Python 3",
   "language": "python",
   "name": "python3"
  },
  "language_info": {
   "codemirror_mode": {
    "name": "ipython",
    "version": 3
   },
   "file_extension": ".py",
   "mimetype": "text/x-python",
   "name": "python",
   "nbconvert_exporter": "python",
   "pygments_lexer": "ipython3",
   "version": "3.9.2"
  },
  "source_map": [
   15
  ]
 },
 "nbformat": 4,
 "nbformat_minor": 5
}