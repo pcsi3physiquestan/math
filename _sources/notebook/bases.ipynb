{
 "cells": [
  {
   "cell_type": "markdown",
   "id": "fc2bdc00",
   "metadata": {},
   "source": [
    "# Bases de mathématiques pour la physique\n",
    "````{admonition} Compétences\n",
    ":class: tip\n",
    "* Résoudre analytiquement ou graphiquement une équation simple.\n",
    "* Résoudre un système d'équations\n",
    "* Connaître l'allure et les propriétés des fonctions usuelles: exponentielle, logarithme népérien et décimal, cosinus, sinus, tangente, puissance réelle, cosinus hyperbolique, sinus hyperbolique.\n",
    "* Tracer une courbe d'équation $y=f(x)$ et déterminer ses caractéristiques.\n",
    "* Associer une transformation graphique à une modification d'une fonction usuelle (homothétie, symétrie, translation)\n",
    "* Utiliser le cercle trigonométrique et l'interprétation géométrique  des fonctions sinus, cosinus, tangente.\n",
    "* Connaître les formules d'addition et de duplication des cosinus et sinus.\n",
    "* Calculer et interprêter géométriquement la partie réelle et imaginaire, le module et l'argument d'un nombre complexe.\n",
    "````"
   ]
  }
 ],
 "metadata": {
  "jupytext": {
   "encoding": "# -*- coding: utf-8 -*-",
   "formats": "ipynb,md:myst",
   "split_at_heading": true,
   "text_representation": {
    "extension": ".md",
    "format_name": "myst",
    "format_version": 0.13,
    "jupytext_version": "1.10.3"
   }
  },
  "kernelspec": {
   "display_name": "Python 3",
   "language": "python",
   "name": "python3"
  },
  "language_info": {
   "codemirror_mode": {
    "name": "ipython",
    "version": 3
   },
   "file_extension": ".py",
   "mimetype": "text/x-python",
   "name": "python",
   "nbconvert_exporter": "python",
   "pygments_lexer": "ipython3",
   "version": "3.9.15"
  },
  "source_map": [
   15
  ]
 },
 "nbformat": 4,
 "nbformat_minor": 5
}