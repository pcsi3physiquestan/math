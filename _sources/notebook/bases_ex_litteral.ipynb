{
 "cells": [
  {
   "cell_type": "markdown",
   "id": "e86187d8",
   "metadata": {},
   "source": [
    "# Entrainement : Calcul littéral\n",
    "\n",
    "## Equations\n",
    "\n",
    "### Equation du second degré: Equations littérales\n",
    "\n",
    "````{admonition} Equations \n",
    ":class: attention\n",
    "Résoudre les équations ou inéquations suivantes (l'inconnue est toujours $x$). Les grandeurs littérales sont toutes supposées positives.\n",
    "1. $x^2 - (a+b)x + ab = 0$\n",
    "1. $x^2 - (2f-d)x + fd = 0$\n",
    "1. $kx^2 + 2(\\sin(\\theta)-\\cos(\\theta))x - \\sin(2\\theta)=0$\n",
    "1. $\\frac{mv^2b^2}{2x^2}+\\frac{e^2}{4 \\pi \\epsilon_0 x}=\\frac{1}{2}mv^2$\n",
    "1. $\\frac{gy^2}{2v^2}x^2-yx+(\\frac{gy^2}{2v^2}+z)=0$. Préciser l'inégalité que doivent vérifier $g,v,y$ et $z$ pour que cette équation possèdent des solutions réelles.\n",
    "1. $a e^{-x/4} = \\eta$ avec comme inconnue $x$\n",
    "````\n",
    "\n",
    "````{admonition} Systèmes d'équations\n",
    ":class: attention\n",
    "Résoudre les deux systèmes d'équations suivants (les inconnues sont x et y). Les grandeurs littérales sont supposées positives. __On utilisera la méthode des combinaisons linéaires.__\n",
    "\n",
    "\\begin{align}\n",
    "\t&\\begin{cases}\n",
    "\t\tE_1 - R_1 x - R (x+y)&=0\\\\\n",
    "\t\tE_2 - R_2 y - R (x+y)&=0\\\\\n",
    "\t\\end{cases}\\\\\n",
    "\t&\\begin{cases}\n",
    "\t\t-m\\omega^2 x +k x - K(y-x) &= F_m\\\\\n",
    "\t\t-m\\omega^2 y +k y + K(y-x) &= 0\\\\\n",
    "\t\\end{cases}\n",
    "\\end{align}\n",
    "````\n",
    "\n",
    "## Etude de fonctions\n",
    "````{admonition} Représentation graphique \n",
    ":class: attention\n",
    "Etudier complètement la fonction suivante puis réaliser un tracé graphique complet (points et caractéristiques importantes à faire apparaître sur le graphique). On réaliser différentes tracés en fonction du paramètre $f$ de manière à caractériser les différents cas possibles dans les caractéristiques de la fonction.\n",
    "1. $g(x) = \\frac{fx}{x+f}$ sur $\\mathbb{R} / \\{-f\\}$\n",
    "````\n",
    "\n",
    "## Nombres complexes\n",
    "\n",
    "````{admonition} Caractéristiques \n",
    ":class: attention\n",
    "Déterminer les normes et arguments des complexes suivant.\n",
    "1. $z = 3 + jx$ avec $x < 0$\n",
    "1. $z = (x-1) - j(x-3)$ avec $x > 0$\n",
    "1. Les conjugués des deux complexes précédents\n",
    "1. Leur somme puis leur produit\n",
    "1. $z = 4 e^{j \\frac{\\pi}{6\\lambda}}$ avec $\\lambda$ positif.\n",
    "1. $z = 2\\omega e^{j \\frac{\\omega\\pi}{3}}$ avec $\\omega$ négatif.\n",
    "1. Les conjugués des deux complexes précédents\n",
    "1. Leur somme puis leur produit\n",
    "````"
   ]
  }
 ],
 "metadata": {
  "jupytext": {
   "encoding": "# -*- coding: utf-8 -*-",
   "formats": "ipynb,md:myst",
   "split_at_heading": true,
   "text_representation": {
    "extension": ".md",
    "format_name": "myst",
    "format_version": 0.13,
    "jupytext_version": "1.10.3"
   }
  },
  "kernelspec": {
   "display_name": "Python 3",
   "language": "python",
   "name": "python3"
  },
  "language_info": {
   "codemirror_mode": {
    "name": "ipython",
    "version": 3
   },
   "file_extension": ".py",
   "mimetype": "text/x-python",
   "name": "python",
   "nbconvert_exporter": "python",
   "pygments_lexer": "ipython3",
   "version": "3.9.15"
  },
  "source_map": [
   15
  ]
 },
 "nbformat": 4,
 "nbformat_minor": 5
}