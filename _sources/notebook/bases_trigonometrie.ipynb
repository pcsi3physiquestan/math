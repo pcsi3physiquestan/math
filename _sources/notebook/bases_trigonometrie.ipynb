{
 "cells": [
  {
   "cell_type": "markdown",
   "id": "cc271b81",
   "metadata": {},
   "source": [
    "# Géométrie et trigonométrie\n",
    "\n",
    "## Généralités\n",
    "````{topic} Théorèmes utiles\n",
    "On rappelle ici le nom des théorèmes utiles:\n",
    "* le théorème de Pythagore\n",
    "* le théorème de Thales: on peut aussi le voir comme un rapport de grandeur lors d'une homothétie. Cette vision, développée en optique sera alors très utile.\n",
    "* le théorème d'Al-Kashi: en fait non, il est préférable de calculer la norme d'une somme de vecteur pour aboutir à une telle formule.\n",
    "````\n",
    "\n",
    "````{important} __Fonctions trigonométriques et triangle rectangle__\n",
    "On rappelle que dans un triangle __rectangle__:\n",
    "\n",
    "\\begin{align}\n",
    "    \\cos \\alpha &= \\frac{\\textrm{Côté adjacent}}{\\textrm{Hypothénuse}} &=& \\frac{BA}{AC}& &\\\\\n",
    "    \\sin \\alpha &= \\frac{\\textrm{Côté opposé}}{\\textrm{Hypothénuse}} &=& \\frac{BC}{AC}& &\\\\\n",
    "    \\tan \\alpha &= \\frac{\\textrm{Côté opposé}}{\\textrm{Côté adjacent}} &=& \\frac{BC}{BA}& &\n",
    "\\end{align}\n",
    "\n",
    "```{figure} ./images/mathematique_triangle_rectangle.jpg\n",
    ":name: tr_rect\n",
    ":align: center\n",
    "```\n",
    "````\n",
    "\n",
    "## Cercle trigonométrique\n",
    "\n",
    "````{important} __Cercle trigonométrique__\n",
    "Le cercle trigonométrique est un cercle de rayon 1. L'axe Ox représente l'origine des angles parcourus sur le cercle. Ce cercle est orienté, c'est-à-dire que les angles orientés dans le sens dit trigonométrique (sens inverse du sens horaire) sont comptés positifs.\n",
    "\n",
    "Soit un angle $\\alpha$ orienté, la longueur de l'arc associé à l'angle $\\alpha$ (arc AM) sur le cercle trigonométrique est égale à l'angle $\\alpha$ multiplié par la longueur unité. Sur un cercle de rayon R, la longueur de l'arc associé à $\\alpha$ est égale à $R \\alpha$.\n",
    "\n",
    "```{figure} ./images/mathematique_cercle_trigo.jpg\n",
    ":name: cercle_trigo\n",
    ":align: center\n",
    "```\n",
    "\n",
    "Soit M un point du cercle trigonométrique et $\\alpha$ l'angle orienté entre OM et l'axe Ox. On note N le projeté de M sur l'axe Ox et P le projeté de M sur l'axe Oy. Les distances __algébriques__ $\\overline{ON}$ et $\\overline{OP}$ sont respectivement égales à $\\cos(\\alpha)$ et $\\sin(\\alpha)$.\n",
    "\n",
    "On peut tracer les deux tangentes au cercle perpendiculaires à l'axe Ox orienté (vers le haut du côté des x positifs et vers le bas du côté des x négatifs). Soit T l'intersection de OM et de la tangente la plus proche. La distance de T à l'axe Ox est égale à$ \\tan(\\alpha)$ (distance __algébrique__ AT).\n",
    "\n",
    "```{figure} ./images/mathematique_cercle_trigo_sincos.jpg\n",
    ":name: fig_330\n",
    ":align: center\n",
    "```\n",
    "````"
   ]
  }
 ],
 "metadata": {
  "jupytext": {
   "encoding": "# -*- coding: utf-8 -*-",
   "formats": "ipynb,md:myst",
   "split_at_heading": true,
   "text_representation": {
    "extension": ".md",
    "format_name": "myst",
    "format_version": 0.13,
    "jupytext_version": "1.10.3"
   }
  },
  "kernelspec": {
   "display_name": "Python 3",
   "language": "python",
   "name": "python3"
  },
  "language_info": {
   "codemirror_mode": {
    "name": "ipython",
    "version": 3
   },
   "file_extension": ".py",
   "mimetype": "text/x-python",
   "name": "python",
   "nbconvert_exporter": "python",
   "pygments_lexer": "ipython3",
   "version": "3.9.15"
  },
  "source_map": [
   15
  ]
 },
 "nbformat": 4,
 "nbformat_minor": 5
}